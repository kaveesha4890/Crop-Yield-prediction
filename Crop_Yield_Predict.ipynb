{
 "cells": [
  {
   "cell_type": "code",
   "execution_count": null,
   "id": "e7071184-2511-4b3f-b8cd-db457fd1404d",
   "metadata": {},
   "outputs": [],
   "source": []
  }
 ],
 "metadata": {
  "kernelspec": {
   "display_name": "",
   "name": ""
  },
  "language_info": {
   "name": ""
  }
 },
 "nbformat": 4,
 "nbformat_minor": 5
}
